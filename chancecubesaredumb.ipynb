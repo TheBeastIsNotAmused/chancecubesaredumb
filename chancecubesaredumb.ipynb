{
 "cells": [
  {
   "cell_type": "code",
   "execution_count": 8,
   "metadata": {},
   "outputs": [],
   "source": [
    "import numpy as np\n",
    "from random import randint\n",
    "import pandas as pd"
   ]
  },
  {
   "cell_type": "code",
   "execution_count": 157,
   "metadata": {},
   "outputs": [],
   "source": [
    "def chancecubesaredumb(n_npcs,n_dice = 6,n_sides = 6, n_foretold = 0):\n",
    "    '''\n",
    "    parameter:\n",
    "    this function assumes the dice are 6 sided\n",
    "    n_npcs: int, number of npcs gambling, does not include player\n",
    "    n_dice: int, number of dice rolled\n",
    "    n_sides: int, number of sides on die\n",
    "    n_foretold: int, number of guesses pc saw in the future\n",
    "    '''\n",
    "    \n",
    "    true_roll = []\n",
    "    for n in range(n_dice):\n",
    "        true_roll.append(randint(1,n_sides))\n",
    "        \n",
    "    npc_guesses = {}\n",
    "    for npc in range(n_npcs):\n",
    "        guesses = []\n",
    "        for roll in range(n_dice):\n",
    "            guesses.append(randint(1,n_sides))\n",
    "        npc_guesses[npc] = guesses\n",
    "    \n",
    "    pc_guess = np.ones(n_dice)\n",
    "    \n",
    "    for n in range(n_dice):\n",
    "        if n < n_foretold:\n",
    "            pc_guess[n] = true_roll[n]\n",
    "            \n",
    "        else:\n",
    "            pc_guess[n] = randint(1,n_sides)\n",
    "    \n",
    "    print('The roll is:')\n",
    "    print(true_roll)\n",
    "    print()\n",
    "    print('The pc guess is:')\n",
    "    print(pc_guess)\n",
    "    print()\n",
    "    print('the npc guesses are:')\n",
    "    for key in npc_guesses:\n",
    "        print(npc_guesses[key])\n",
    "\n",
    "    #results\n",
    "    print()\n",
    "    pc_count = 0\n",
    "    pc_temp = np.copy(true_roll)\n",
    "    for n in pc_guess:\n",
    "        temp = []\n",
    "        if n in pc_temp:\n",
    "            temp = np.where(pc_temp == n)\n",
    "            pc_temp = np.delete(pc_temp, temp[0][0])\n",
    "            pc_count += 1\n",
    "        \n",
    "    npc_count = {}\n",
    "    for npc in range(n_npcs):\n",
    "        npc_temp = np.copy(true_roll)\n",
    "        temp_count = 0\n",
    "        for n in npc_guesses[npc]:\n",
    "            temp = []\n",
    "            if n in npc_temp:\n",
    "                temp = np.where(npc_temp == n)\n",
    "                npc_temp = np.delete(npc_temp, temp[0][0])\n",
    "                temp_count += 1\n",
    "        npc_count[npc] = temp_count\n",
    "        \n",
    "    print('The PC correctly guessed', pc_count)\n",
    "        \n",
    "    for npc in range(n_npcs):\n",
    "        print('Gambler',npc,'correctly guessed', npc_count[npc])\n",
    "    \n",
    "    return"
   ]
  },
  {
   "cell_type": "code",
   "execution_count": 158,
   "metadata": {},
   "outputs": [
    {
     "name": "stdout",
     "output_type": "stream",
     "text": [
      "The roll is:\n",
      "[4, 6, 4, 4, 2, 6, 4, 3, 6, 3]\n",
      "\n",
      "The pc guess is:\n",
      "[4. 6. 4. 4. 2. 6. 4. 5. 6. 3.]\n",
      "\n",
      "the npc guesses are:\n",
      "[3, 2, 1, 2, 2, 5, 2, 2, 5, 6]\n",
      "[4, 6, 4, 4, 4, 1, 3, 2, 3, 5]\n",
      "[4, 3, 2, 6, 5, 3, 4, 1, 6, 4]\n",
      "\n",
      "The PC correctly guessed 9\n",
      "Gambler 0 correctly guessed 3\n",
      "Gambler 1 correctly guessed 8\n",
      "Gambler 2 correctly guessed 8\n"
     ]
    }
   ],
   "source": [
    "chancecubesaredumb(3, n_dice = 10, n_foretold = 7)"
   ]
  },
  {
   "cell_type": "code",
   "execution_count": null,
   "metadata": {},
   "outputs": [],
   "source": []
  }
 ],
 "metadata": {
  "kernelspec": {
   "display_name": "Python 3",
   "language": "python",
   "name": "python3"
  },
  "language_info": {
   "codemirror_mode": {
    "name": "ipython",
    "version": 3
   },
   "file_extension": ".py",
   "mimetype": "text/x-python",
   "name": "python",
   "nbconvert_exporter": "python",
   "pygments_lexer": "ipython3",
   "version": "3.7.6"
  }
 },
 "nbformat": 4,
 "nbformat_minor": 4
}
